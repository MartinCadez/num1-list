{
 "cells": [
  {
   "cell_type": "code",
   "execution_count": null,
   "id": "ffb158ef",
   "metadata": {},
   "outputs": [
    {
     "name": "stdout",
     "output_type": "stream",
     "text": [
      "[[ 1.          0.          0.        ]\n",
      " [22.          1.          0.        ]\n",
      " [ 0.         -0.06451613  1.        ]]\n"
     ]
    }
   ],
   "source": [
    "import numpy as np\n",
    "\n",
    "A = np.array([\n",
    "    [1, 3, 4],\n",
    "    [22, 4, 5],\n",
    "    [0, 4, 6]\n",
    "])\n",
    "def lu_decomposition(A):\n",
    "    n = A.shape[0] # Number of columns\n",
    "    L = np.eye(n)  # Identity matrix size n\n",
    "\n",
    "    # For each column except the last one\n",
    "    for j in range(n-1):\n",
    "        # In each column\n",
    "\n",
    "        # for each row except first j + 1\n",
    "        for i in range(j+1, n):\n",
    "\n",
    "            # calculate value for L\n",
    "            L[i,j] = A[i,j] / A[j,j]\n",
    "\n",
    "            # for each column except first j+1 up until the last one\n",
    "            for k in range(j+1, n):\n",
    "                # setting whole row\n",
    "                A[i,k] = A[i,k] - L[i,j] * A[j,k]\n",
    "    \n",
    "    # Extract upper triangular (including diagonal)\n",
    "    U = np.triu(A)\n",
    "    return L, U\n",
    "\n",
    "L, U = lu_decomposition(A)\n",
    "print(L)\n"
   ]
  },
  {
   "cell_type": "code",
   "execution_count": null,
   "id": "6f9b8a26",
   "metadata": {},
   "outputs": [
    {
     "data": {
      "text/plain": [
       "array([1., 0., 0.])"
      ]
     },
     "execution_count": 26,
     "metadata": {},
     "output_type": "execute_result"
    }
   ],
   "source": [
    "\n",
    "np.eye(3)\n"
   ]
  },
  {
   "cell_type": "code",
   "execution_count": null,
   "id": "e13aac5f",
   "metadata": {},
   "outputs": [
    {
     "name": "stdout",
     "output_type": "stream",
     "text": [
      "2\n",
      "3\n",
      "4\n",
      "5\n",
      "6\n",
      "7\n",
      "8\n"
     ]
    }
   ],
   "source": [
    "n = 10\n",
    "for i in range(2, n-1):\n",
    "    print(i)\n"
   ]
  }
 ],
 "metadata": {
  "kernelspec": {
   "display_name": "Python 3",
   "language": "python",
   "name": "python3"
  },
  "language_info": {
   "codemirror_mode": {
    "name": "ipython",
    "version": 3
   },
   "file_extension": ".py",
   "mimetype": "text/x-python",
   "name": "python",
   "nbconvert_exporter": "python",
   "pygments_lexer": "ipython3",
   "version": "3.13.3"
  }
 },
 "nbformat": 4,
 "nbformat_minor": 5
}
